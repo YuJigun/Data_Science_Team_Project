{
 "cells": [
  {
   "cell_type": "markdown",
   "metadata": {},
   "source": [
    "# Classification using Haberman's Survival Data Set\n",
    "\n",
    "This is a reimplementation of the K-Nearest Neighbors algorithm using plain Python.\n",
    "\n",
    "In my opinion it is important to understand the \"low level\", not just the abstraction.\n",
    "\n",
    "Data Set: [Haberman's Survival Data Set](https://archive.ics.uci.edu/ml/datasets/Haberman%27s+Survival)"
   ]
  },
  {
   "cell_type": "code",
   "execution_count": 1,
   "metadata": {},
   "outputs": [],
   "source": [
    "import math # import math module"
   ]
  },
  {
   "cell_type": "code",
   "execution_count": 2,
   "metadata": {},
   "outputs": [],
   "source": [
    "data = [] # creat empty Data list"
   ]
  },
  {
   "cell_type": "markdown",
   "metadata": {},
   "source": [
    "##### Import the data and append it to the list \n",
    "\n",
    "[age_of_the_patient, year_of_operation, number_of_nodes_detected, survival_status]\n",
    "\n",
    "Check the data set's link above for more details"
   ]
  },
  {
   "cell_type": "code",
   "execution_count": 3,
   "metadata": {},
   "outputs": [],
   "source": [
    "with open('dataset.data', 'r') as f: # Open the existing file for reading.\n",
    "    for line in f.readlines(): # readlines() reads all lines in the file and returns each line to a list of elements \n",
    "                                # 'line' is String variable\n",
    "        atributes = line.strip('\\n').split(',') # strip() is to remove \\n present at both ends of the string\n",
    "                                                # and, split() distribute the string based on ',' \n",
    "        data.append([int(x) for x in atributes]) # change String to Integer , append integer type data to 'data' list"
   ]
  },
  {
   "cell_type": "markdown",
   "metadata": {},
   "source": [
    "##### Auxiliary function to help the visualization\n",
    "Also returns key information of the data set"
   ]
  },
  {
   "cell_type": "code",
   "execution_count": 4,
   "metadata": {},
   "outputs": [],
   "source": [
    "def info_dataset(data, verbose=True): # created info_dataset() that receives data and verbose as input.\n",
    "                                       # Always execute if statement by setting 'verbose' to 'True'\n",
    "    label1, label2 = 0, 0  # initialize label1 & label2 to 0\n",
    "    data_size = len(data)  # Set data_size to the size of the list.\n",
    "    for datum in data:     # By rotating the repetition\n",
    "                           # Enter the value of the list (data) as the variable datum \n",
    "        if datum[-1] == 1: # if datum's last value is 1 \n",
    "            label1 += 1    # 1 Add to label1 \n",
    "        else:              # if datum's last value is not 1 \n",
    "            label2 += 1    # 1 Add to label2\n",
    "    if verbose: \n",
    "        # String formatting\n",
    "        print('Total of samples: %d' % data_size) # Print String After entering 'data_size' in '%d' position\n",
    "        print('Total label 1: %d' % label1)       # Print String After entering 'label1' in '%d' position\n",
    "        print('Total label 2: %d' % label2)       # Print String After entering 'label2' in '%d' position\n",
    "    return [len(data), label1, label2]  # [len(data), label1, label2] return in order."
   ]
  },
  {
   "cell_type": "code",
   "execution_count": 5,
   "metadata": {},
   "outputs": [],
   "source": [
    "info_dataset(data) # execute info_dataset function about 'data'"
   ]
  },
  {
   "cell_type": "markdown",
   "metadata": {},
   "source": [
    "##### Define the train/total percentage"
   ]
  },
  {
   "cell_type": "code",
   "execution_count": 6,
   "metadata": {},
   "outputs": [],
   "source": [
    "p = 0.6\n",
    "# set the percentage to 0.6\n",
    "_, label1, label2 = info_dataset(data,False)\n",
    "# The meaning of '_' written here means that you want to ignore the value.",
    "# In 'info_dataset(data)', ignore 'len(data)' of the return value and assign only label1 and label2."
   ]
  },
  {
   "cell_type": "markdown",
   "metadata": {},
   "source": [
    "##### Split the data set into train set and test set"
   ]
  },
  {
   "cell_type": "code",
   "execution_count": 7,
   "metadata": {},
   "outputs": [],
   "source": [
    "train_set, test_set = [], []\n",
    "# tcreate two empty data list naming train_set, test_set\n",
    "\n",
    "max_label1, max_label2 = int(p * label1), int(p * label2)\n",
    "# set max_label1 to p*label1 in integer, set max_label2 to p*label1 in integer\n",
    "\n",
    "total_label1, total_label2 = 0, 0\n",
    "# total_label1 is 0, total_label2 is 0\n",
    "\n",
    "for sample in data: \n",
    "# create variable 'sample' in data\n",
    "    \n",
    "    if (total_label1 + total_label2) < (max_label1 + max_label2):\n",
    "# if total_label1 + total_label2 is smaller than max_label1 + max_label2\n",
    "\n",
    "        train_set.append(sample)\n",
    "# append sample in train_set\n",
    "\n",
    "        if sample[-1] == 1 and total_label1 < max_label1:\n",
    "# if sample[-1] is equal to 1, total_label1 and smaller than max_label1\n",
    "\n",
    "            total_label1 += 1\n",
    "# plus 1 to total_label1\n",
    "    \n",
    "        else:\n",
    "# if else  ?????????????????\n",
    "\n",
    "            total_label2 += 1\n",
    "# plus 1 to total_label2\n",
    "\n",
    "    else:\n",
    "# if total_label1 + total_label2 is not smaller than max_label1 + max_label2\n",
    "\n",
    "        test_set.append(sample)\n",
    "# append sample in test_set"
   ]
  },
  {
   "cell_type": "markdown",
   "metadata": {},
   "source": [
    "##### Define function to calculate the euclidian distance between two points\n",
    "[Euclidian Distance - Wikipedia](https://en.wikipedia.org/wiki/Euclidean_distance)"
   ]
  },
  {
   "cell_type": "code",
   "execution_count": 8,
   "metadata": {},
   "outputs": [],
   "source": [
    "def euclidian_dist(p1, p2):\n",
    "    dim, sum_ = len(p1), 0\n",
    "    for index in range(dim - 1):\n",
    "        sum_ += math.pow(p1[index] - p2[index], 2)\n",
    "    return math.sqrt(sum_)"
   ]
  },
  {
   "cell_type": "markdown",
   "metadata": {},
   "source": [
    "##### Calculates the distance between a given sample and every other in the train set\n",
    "Feeds its distances to a dictionary, the sort it and gets the nearest K neighbors;\n",
    "Then it counts witch of the labels is the most recurring, and returns it. "
   ]
  },
  {
   "cell_type": "code",
   "execution_count": 9,
   "metadata": {},
   "outputs": [],
   "source": [
    "def knn(train_set, new_sample, K):\n",
    "    dists, train_size = {}, len(train_set)\n",
    "    \n",
    "    for i in range(train_size):\n",
    "        d = euclidian_dist(train_set[i], new_sample)\n",
    "        dists[i] = d\n",
    "    \n",
    "    k_neighbors = sorted(dists, key=dists.get)[:K]\n",
    "    \n",
    "    qty_label1, qty_label2 = 0, 0\n",
    "    for index in k_neighbors:\n",
    "        if train_set[index][-1] == 1:\n",
    "            qty_label1 += 1\n",
    "        else:\n",
    "            qty_label2 += 1\n",
    "            \n",
    "    if qty_label1 > qty_label2:\n",
    "        return 1\n",
    "    else:\n",
    "        return 2"
   ]
  },
  {
   "cell_type": "markdown",
   "metadata": {},
   "source": [
    "##### Example"
   ]
  },
  {
   "cell_type": "code",
   "execution_count": 10,
   "metadata": {},
   "outputs": [],
   "source": [
    "print(test_set[0])\n",
    "print(knn(train_set, test_set[0], 12))"
   ]
  },
  {
   "cell_type": "markdown",
   "metadata": {},
   "source": [
    "##### Counts the correct predictions of the test set with a given K"
   ]
  },
  {
   "cell_type": "code",
   "execution_count": 11,
   "metadata": {},
   "outputs": [],
   "source": [
    "correct, K = 0, 15\n",
    "# correct is 0, K is 15\n",
    "\n",
    "for sample in test_set:\n",
    "# create variable 'sample' in data\n",
    "\n",
    "    label = knn(train_set, sample, K)\n",
    "# define label is 'knn'(train_set, sample, K)\n",
    "\n",
    "    if sample[-1] == label:\n",
    "# if sample[-1] is equal to label\n",
    "\n",
    "        correct += 1\n",
    "# plus 1 to correct"
   ]
  },
  {
   "cell_type": "code",
   "execution_count": 12,
   "metadata": {},
   "outputs": [
    {
     "name": "stdout",
     "output_type": "stream",
     "text": [
      "Train set size: 183\n",
      "Test set size: 123\n",
      "Correct predicitons: 93\n",
      "Accuracy: 50.82%\n"
     ]
    }
   ],
   "source": [
    "print(\"Train set size: %d\" % len(train_set))\n",
    "# Print String After entering len(train_set) in '%d' position\n",
    "\n",
    "print(\"Test set size: %d\" % len(test_set))\n",
    "# Print String After entering len(test_set) in '%d' position\n",
    "\n",
    "print(\"Correct predicitons: %d\" % correct)\n",
    "# Print String After entering 'correct' in '%d' position\n",
    "\n",
    "print(\"Accuracy: %.2f%%\" % (100 * correct / len(train_set)))\n",
    "# Print String After entering (100 * correct / len(train_set)) in '%.2f%%' position"
   ]
  }
 ],
 "metadata": {
  "kernelspec": {
   "display_name": "Python 3",
   "language": "python",
   "name": "python3"
  },
  "language_info": {
   "codemirror_mode": {
    "name": "ipython",
    "version": 3
   },
   "file_extension": ".py",
   "mimetype": "text/x-python",
   "name": "python",
   "nbconvert_exporter": "python",
   "pygments_lexer": "ipython3",
   "version": "3.7.6"
  }
 },
 "nbformat": 4,
 "nbformat_minor": 2
}
